{
 "cells": [
  {
   "cell_type": "code",
   "execution_count": 84,
   "metadata": {
    "collapsed": false
   },
   "outputs": [],
   "source": [
    "# s = \"4 4 1 2 3 2 4 3 1 4 1 4\"\n",
    "s = \"4 2 1 2 3 2 1 4\""
   ]
  },
  {
   "cell_type": "code",
   "execution_count": 85,
   "metadata": {
    "collapsed": false
   },
   "outputs": [],
   "source": [
    "data = list(map(int, s.split()))\n",
    "n, m = data[0:2]\n",
    "data = data[2:]\n",
    "edges = list(zip(data[0:(2 * m):2], data[1:(2 * m):2]))\n",
    "x, y = data[2 * m:]\n",
    "adj = [[] for _ in range(n)]\n",
    "x, y = x - 1, y - 1\n",
    "for (a, b) in edges:\n",
    "    adj[a - 1].append(b - 1)\n",
    "    adj[b - 1].append(a - 1)\n"
   ]
  },
  {
   "cell_type": "code",
   "execution_count": 86,
   "metadata": {
    "collapsed": false
   },
   "outputs": [],
   "source": [
    "def reach(graph, start, end):\n",
    "    stack = []\n",
    "    explored = []\n",
    "    stack.append(x)\n",
    "    \n",
    "    while stack:\n",
    "        vertex = stack.pop()\n",
    "        if vertex in explored: continue\n",
    "        \n",
    "        if vertex == y:\n",
    "            return 1\n",
    "        explored.append(vertex)\n",
    "        for k in adj[vertex]:\n",
    "            stack.append(k)\n",
    "            \n",
    "    return 0;\n",
    "        "
   ]
  },
  {
   "cell_type": "code",
   "execution_count": 87,
   "metadata": {
    "collapsed": false
   },
   "outputs": [
    {
     "name": "stdout",
     "output_type": "stream",
     "text": [
      "0\n"
     ]
    }
   ],
   "source": [
    "print(reach(adj, x, y))"
   ]
  },
  {
   "cell_type": "code",
   "execution_count": null,
   "metadata": {
    "collapsed": true
   },
   "outputs": [],
   "source": []
  }
 ],
 "metadata": {
  "kernelspec": {
   "display_name": "Python 3",
   "language": "python",
   "name": "python3"
  },
  "language_info": {
   "codemirror_mode": {
    "name": "ipython",
    "version": 3
   },
   "file_extension": ".py",
   "mimetype": "text/x-python",
   "name": "python",
   "nbconvert_exporter": "python",
   "pygments_lexer": "ipython3",
   "version": "3.5.2"
  }
 },
 "nbformat": 4,
 "nbformat_minor": 0
}
